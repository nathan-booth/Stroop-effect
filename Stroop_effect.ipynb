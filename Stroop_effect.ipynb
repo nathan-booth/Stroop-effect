{
 "cells": [
  {
   "cell_type": "markdown",
   "metadata": {},
   "source": [
    "# The Stroop Effect\n",
    "\n",
    "What follows is a verification of the Stroop effect, a classical finding in psychology. It shows that people consistently take longer to name the color of a word if the word and color of the word do not match. For example, <span style='color:blue'> RED </span> takes longer to identify as blue than <span style='color:blue'> BLUE </span> as blue.\n",
    "\n",
    "We have two variables. The independent variable is the word condition; it is either congruent (i.e., color name matches word color) or incongruent. The dependent variable is the performance time, in second, to complete each condition.\n",
    "\n",
    "## Hypotheses\n",
    "*Null hypothesis*: the performance time of the population will not be affected by the word condition. That is, \n",
    "$$\\mu_C=\\mu_I$$ \n",
    "\n",
    "where $\\mu_C$ is the mean of the response times under the congruent condition and $\\mu_I$ is the mean of the response times under the incongruent condition.\n",
    "\n",
    "*Altnerative hypothesis*: the performance time of the population will significantly decrease under the incongruent word condition. That is, \n",
    "$$\\mu_C<\\mu_I$$\n",
    "\n",
    "## Experiment\n",
    "Each subject will perform under both conditions and the population parameters are unknown. This experiment uses paired dependent samples in a within-subject design.\n",
    "\n",
    "## Test\n",
    "A [t-test](http://socialresearchmethods.net/kb/stat_t.php) is appropriate to assess whether the difference in means is statistically significant. Recall that a t-test evaluates the difference in means relative to each group's variation in scores. It [assumes](https://en.wikipedia.org/wiki/Student%27s_t-test#Assumptions):\n",
    "* the samples are independent\n",
    "* the populations follow a normal distribution (although, this test is robust to non-normal populations as well)\n",
    "* the populations have the same variance\n",
    "* the two samples were chosen independently of the two populations (e.g., the participants were clustered, then sampled)\n",
    "\n",
    "## Data"
   ]
  },
  {
   "cell_type": "code",
   "execution_count": 8,
   "metadata": {
    "collapsed": false
   },
   "outputs": [
    {
     "data": {
      "text/html": [
       "<script>\n",
       "code_show=true; \n",
       "function code_toggle() {\n",
       " if (code_show){\n",
       " $('div.input').hide();\n",
       " } else {\n",
       " $('div.input').show();\n",
       " }\n",
       " code_show = !code_show\n",
       "} \n",
       "$( document ).ready(code_toggle);\n",
       "</script>\n",
       "The raw code for this IPython notebook is by default hidden for easier reading.\n",
       "To toggle on/off the raw code, click <a href=\"javascript:code_toggle()\">here</a>."
      ],
      "text/plain": [
       "<IPython.core.display.HTML object>"
      ]
     },
     "execution_count": 8,
     "metadata": {},
     "output_type": "execute_result"
    }
   ],
   "source": [
    "import pandas as pd\n",
    "import numpy as np\n",
    "import matplotlib\n",
    "import matplotlib.pyplot as plt\n",
    "import seaborn as sns\n",
    "%matplotlib inline\n",
    "import scipy.stats as stats\n",
    "from IPython.display import HTML\n",
    "HTML('''<script>\n",
    "code_show=true; \n",
    "function code_toggle() {\n",
    " if (code_show){\n",
    " $('div.input').hide();\n",
    " } else {\n",
    " $('div.input').show();\n",
    " }\n",
    " code_show = !code_show\n",
    "} \n",
    "$( document ).ready(code_toggle);\n",
    "</script>\n",
    "The raw code for this IPython notebook is by default hidden for easier reading.\n",
    "To toggle on/off the raw code, click <a href=\"javascript:code_toggle()\">here</a>.''')\n",
    "# code from: https://www.reddit.com/r/IPython/comments/3lpwl9/easiest_way_to_hide_your_input_in_code_cells/"
   ]
  },
  {
   "cell_type": "code",
   "execution_count": 9,
   "metadata": {
    "collapsed": false
   },
   "outputs": [
    {
     "data": {
      "text/html": [
       "<div>\n",
       "<table border=\"1\" class=\"dataframe\">\n",
       "  <thead>\n",
       "    <tr style=\"text-align: right;\">\n",
       "      <th></th>\n",
       "      <th>Congruent</th>\n",
       "      <th>Incongruent</th>\n",
       "    </tr>\n",
       "  </thead>\n",
       "  <tbody>\n",
       "    <tr>\n",
       "      <th>0</th>\n",
       "      <td>12.079</td>\n",
       "      <td>19.278</td>\n",
       "    </tr>\n",
       "    <tr>\n",
       "      <th>1</th>\n",
       "      <td>16.791</td>\n",
       "      <td>18.741</td>\n",
       "    </tr>\n",
       "    <tr>\n",
       "      <th>2</th>\n",
       "      <td>9.564</td>\n",
       "      <td>21.214</td>\n",
       "    </tr>\n",
       "    <tr>\n",
       "      <th>3</th>\n",
       "      <td>8.630</td>\n",
       "      <td>15.687</td>\n",
       "    </tr>\n",
       "    <tr>\n",
       "      <th>4</th>\n",
       "      <td>14.669</td>\n",
       "      <td>22.803</td>\n",
       "    </tr>\n",
       "    <tr>\n",
       "      <th>5</th>\n",
       "      <td>12.238</td>\n",
       "      <td>20.878</td>\n",
       "    </tr>\n",
       "    <tr>\n",
       "      <th>6</th>\n",
       "      <td>14.692</td>\n",
       "      <td>24.572</td>\n",
       "    </tr>\n",
       "    <tr>\n",
       "      <th>7</th>\n",
       "      <td>8.987</td>\n",
       "      <td>17.394</td>\n",
       "    </tr>\n",
       "    <tr>\n",
       "      <th>8</th>\n",
       "      <td>9.401</td>\n",
       "      <td>20.762</td>\n",
       "    </tr>\n",
       "    <tr>\n",
       "      <th>9</th>\n",
       "      <td>14.480</td>\n",
       "      <td>26.282</td>\n",
       "    </tr>\n",
       "    <tr>\n",
       "      <th>10</th>\n",
       "      <td>22.328</td>\n",
       "      <td>24.524</td>\n",
       "    </tr>\n",
       "    <tr>\n",
       "      <th>11</th>\n",
       "      <td>15.298</td>\n",
       "      <td>18.644</td>\n",
       "    </tr>\n",
       "    <tr>\n",
       "      <th>12</th>\n",
       "      <td>15.073</td>\n",
       "      <td>17.510</td>\n",
       "    </tr>\n",
       "    <tr>\n",
       "      <th>13</th>\n",
       "      <td>16.929</td>\n",
       "      <td>20.330</td>\n",
       "    </tr>\n",
       "    <tr>\n",
       "      <th>14</th>\n",
       "      <td>18.200</td>\n",
       "      <td>35.255</td>\n",
       "    </tr>\n",
       "    <tr>\n",
       "      <th>15</th>\n",
       "      <td>12.130</td>\n",
       "      <td>22.158</td>\n",
       "    </tr>\n",
       "    <tr>\n",
       "      <th>16</th>\n",
       "      <td>18.495</td>\n",
       "      <td>25.139</td>\n",
       "    </tr>\n",
       "    <tr>\n",
       "      <th>17</th>\n",
       "      <td>10.639</td>\n",
       "      <td>20.429</td>\n",
       "    </tr>\n",
       "    <tr>\n",
       "      <th>18</th>\n",
       "      <td>11.344</td>\n",
       "      <td>17.425</td>\n",
       "    </tr>\n",
       "    <tr>\n",
       "      <th>19</th>\n",
       "      <td>12.369</td>\n",
       "      <td>34.288</td>\n",
       "    </tr>\n",
       "    <tr>\n",
       "      <th>20</th>\n",
       "      <td>12.944</td>\n",
       "      <td>23.894</td>\n",
       "    </tr>\n",
       "    <tr>\n",
       "      <th>21</th>\n",
       "      <td>14.233</td>\n",
       "      <td>17.960</td>\n",
       "    </tr>\n",
       "    <tr>\n",
       "      <th>22</th>\n",
       "      <td>19.710</td>\n",
       "      <td>22.058</td>\n",
       "    </tr>\n",
       "    <tr>\n",
       "      <th>23</th>\n",
       "      <td>16.004</td>\n",
       "      <td>21.157</td>\n",
       "    </tr>\n",
       "  </tbody>\n",
       "</table>\n",
       "</div>"
      ],
      "text/plain": [
       "    Congruent  Incongruent\n",
       "0      12.079       19.278\n",
       "1      16.791       18.741\n",
       "2       9.564       21.214\n",
       "3       8.630       15.687\n",
       "4      14.669       22.803\n",
       "5      12.238       20.878\n",
       "6      14.692       24.572\n",
       "7       8.987       17.394\n",
       "8       9.401       20.762\n",
       "9      14.480       26.282\n",
       "10     22.328       24.524\n",
       "11     15.298       18.644\n",
       "12     15.073       17.510\n",
       "13     16.929       20.330\n",
       "14     18.200       35.255\n",
       "15     12.130       22.158\n",
       "16     18.495       25.139\n",
       "17     10.639       20.429\n",
       "18     11.344       17.425\n",
       "19     12.369       34.288\n",
       "20     12.944       23.894\n",
       "21     14.233       17.960\n",
       "22     19.710       22.058\n",
       "23     16.004       21.157"
      ]
     },
     "execution_count": 9,
     "metadata": {},
     "output_type": "execute_result"
    }
   ],
   "source": [
    "data = pd.read_csv(\"stroopdata.csv\")\n",
    "data"
   ]
  },
  {
   "cell_type": "markdown",
   "metadata": {},
   "source": [
    "## Descriptive Statistics\n",
    "Let us view some common summary statistics."
   ]
  },
  {
   "cell_type": "code",
   "execution_count": 10,
   "metadata": {
    "collapsed": false,
    "scrolled": true
   },
   "outputs": [
    {
     "name": "stdout",
     "output_type": "stream",
     "text": [
      "       Congruent  Incongruent\n",
      "count  24.000000    24.000000\n",
      "mean   14.051125    22.015917\n",
      "std     3.559358     4.797057\n",
      "min     8.630000    15.687000\n",
      "25%    11.895250    18.716750\n",
      "50%    14.356500    21.017500\n",
      "75%    16.200750    24.051500\n",
      "max    22.328000    35.255000\n",
      "IQR     4.31         5.33\n"
     ]
    }
   ],
   "source": [
    "print(data.describe())\n",
    "print(\"IQR    \", \n",
    "      \"{0:.2f}\".format(data['Congruent'].quantile(0.75) - data['Congruent'].quantile(0.25)),\n",
    "      \" \" * 7,\n",
    "      \"{0:.2f}\".format(data['Incongruent'].quantile(0.75) - data['Incongruent'].quantile(0.25)))"
   ]
  },
  {
   "cell_type": "markdown",
   "metadata": {},
   "source": [
    "Eyeballing the data, we can see that the means (14 < 22) and standard deviations (3.6 < 4.8) differ, but a t-test should be applied to verify that the differences are significant. Before that, let's view some visual summaries of the data."
   ]
  },
  {
   "cell_type": "code",
   "execution_count": 11,
   "metadata": {
    "collapsed": false
   },
   "outputs": [
    {
     "data": {
      "text/plain": [
       "array([[<matplotlib.axes._subplots.AxesSubplot object at 0x00000245167B6B00>,\n",
       "        <matplotlib.axes._subplots.AxesSubplot object at 0x000002451682B390>]], dtype=object)"
      ]
     },
     "execution_count": 11,
     "metadata": {},
     "output_type": "execute_result"
    },
    {
     "data": {
      "image/png": "[encoded data removed]",
      "text/plain": [
       "<matplotlib.figure.Figure at 0x2451648f0b8>"
      ]
     },
     "metadata": {},
     "output_type": "display_data"
    }
   ],
   "source": [
    "data.hist(bins=18, figsize=(17,5))"
   ]
  },
  {
   "cell_type": "markdown",
   "metadata": {},
   "source": [
    "The distributions look mostly normal, excepting two outliers in the incongruent condition. The difference in means is affected by those outliers, so the difference in medians (the 50% statistic above, 14.3 < 21.0) is a better measure of central tendency.\n",
    "\n",
    "## Test and Results"
   ]
  },
  {
   "cell_type": "code",
   "execution_count": 23,
   "metadata": {
    "collapsed": false
   },
   "outputs": [
    {
     "name": "stdout",
     "output_type": "stream",
     "text": [
      "Ttest_indResult(statistic=-6.5322505539032285, pvalue=6.5101673904426379e-08)\n",
      "Effect size via Cohen's D:  -2.2377045977\n"
     ]
    },
    {
     "data": {
      "text/plain": [
       "-1.6103958962164739"
      ]
     },
     "execution_count": 23,
     "metadata": {},
     "output_type": "execute_result"
    }
   ],
   "source": [
    "print(stats.ttest_ind(data['Congruent'], data['Incongruent'], equal_var=False))\n",
    "\n",
    "cohens_d = (data['Congruent'].mean() - data['Incongruent'].mean()) / \\\n",
    "            (np.sqrt((data['Congruent'].std() ** 2 + data['Congruent'].std() ** 2) / 2))\n",
    "# cohen's d calculation based on: https://stackoverflow.com/questions/21532471/how-to-calculate-cohens-d-in-python#33002123\n",
    "print(\"Effect size via Cohen's D: \", cohens_d)\n"
   ]
  },
  {
   "cell_type": "markdown",
   "metadata": {},
   "source": [
    "The t-statistic is -6.53. It's negative because I subtracted the congruent values, which are smaller, by the incongruent values.\n",
    "The p-value is 0.00000006, which is less than 0.0001, so there's about a 6 in 100,000,000 chance that this result is merely due to chance. Degrees of freedom is 23 (total persons minus one). _Side note: If the groups had contained different people, then the degrees of freedom would have been 46 (total persons minus number of groups)._ Given that the p-value is less than 0.001 and 23 degrees of freedom, the [critical statistic](https://s3.amazonaws.com/udacity-hosted-downloads/t-table.jpg) is 3.485.  \n",
    "\n",
    "The difference in performance between the groups is statistically significant (i.e., there is a measured difference that is unlikely due to chance), but is it meaningful? Is it a tiny difference without much impact or something more? I chose to answer this with Cohen's D because the groups are the same size and the population variance is assumed to be equal. I computed a large effect size in -2.2. This number can be [interpreted](http://rpsychologist.com/d3/cohend/) several ways:\n",
    "* about 99% of the people will have a faster performance time under the congruent condition (i.e., the control) than under the incongruent condition (i.e., the treatment).\n",
    "* Less than 1/3 of the performance times will overlap. In other words, slow control performance and fast treatment performance have a 1/3 chance of overlapping.\n",
    "* about 94% of the time, a person chosen at random from the control group will have a faster time than a random person from the treatment group.\n",
    "* we'd only need to add 1-2 more people to the experiment in order to get another slower time under the treatment compared to the control.\n",
    "\n",
    "## Conclusion\n",
    "\n",
    "The absolute value of the t-statistic is greater than the absolute value of the t critical value and the p-value imples that this outcome was likely not due to chance. We can reject the null hypothesis. The performance time of the subjects under the congruent condition is significantly lower than their performance under the incongruent condition.\n",
    "\n",
    "This result is expected from a perusal of the sample data and consistent with the intuition that human brains will slow down in order to resolve the conflicting information input of the observed color and the printed color name.\n",
    "\n",
    "[Four theories](https://en.wikipedia.org/wiki/Stroop_effect#Theories) are common, but parallel distributed processing theory most resonates with me. The conscious recognition of words is used and strengthened more often than the conscious recognition of colors. Therefore, the brain’s initial impulse is to consider the word before the color. The conscious then recalls the goal of the task, inhibits the initial response, and falls back to the weaker processing pathway. The opportunity cost of processing the word before the color explains the increased processing time in the task.\n",
    "\n",
    "A similar effect is expected any time the brain must rely upon a weak processing pathway to overcome a dominant processing pathway. The [numerical Stroop](https://en.wikipedia.org/wiki/Numerical_Stroop_effect) is an example, which experiments with the relationship between numbers and physical sizes associated with them. For example, the number 4 is expected to have a larger physical size than the number 3 . If <font size=\"5\"> 3 </font> is physically larger than <font size=\"3\"> 4 </font>, then the brain requires additional time to use the weaker conscious processing pathway for responding to physical size.\n",
    "\n"
   ]
  }
 ],
 "metadata": {
  "kernelspec": {
   "display_name": "Python 3",
   "language": "python",
   "name": "python3"
  },
  "language_info": {
   "codemirror_mode": {
    "name": "ipython",
    "version": 3
   },
   "file_extension": ".py",
   "mimetype": "text/x-python",
   "name": "python",
   "nbconvert_exporter": "python",
   "pygments_lexer": "ipython3",
   "version": "3.6.0"
  }
 },
 "nbformat": 4,
 "nbformat_minor": 2
}
